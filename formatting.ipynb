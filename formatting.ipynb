{
 "cells": [
  {
   "cell_type": "code",
   "execution_count": 2,
   "metadata": {},
   "outputs": [],
   "source": [
    "import json\n",
    "\n",
    "podcast_path = \"./podcasts-no-audio-13GB/spotify-podcasts-2020/podcasts-transcripts/0/0/show_002B8PbILr169CdsS9ySTH\"\n",
    "\n",
    "file = open(podcast_path + \"/399kdfMnjw0KYANZU7CQJ0.json\", \"r\")\n",
    "data = json.load(file)"
   ]
  },
  {
   "cell_type": "code",
   "execution_count": 40,
   "metadata": {},
   "outputs": [
    {
     "name": "stdout",
     "output_type": "stream",
     "text": [
      "{}\n"
     ]
    }
   ],
   "source": [
    "sections = data['results']\n",
    "for section in sections:\n",
    "    section_data = section['alternatives'][0]\n",
    "    if section_data.get('words'):\n",
    "        print(section_data['words'][0])"
   ]
  }
 ],
 "metadata": {
  "kernelspec": {
   "display_name": ".venv",
   "language": "python",
   "name": "python3"
  },
  "language_info": {
   "codemirror_mode": {
    "name": "ipython",
    "version": 3
   },
   "file_extension": ".py",
   "mimetype": "text/x-python",
   "name": "python",
   "nbconvert_exporter": "python",
   "pygments_lexer": "ipython3",
   "version": "3.11.5"
  }
 },
 "nbformat": 4,
 "nbformat_minor": 2
}
